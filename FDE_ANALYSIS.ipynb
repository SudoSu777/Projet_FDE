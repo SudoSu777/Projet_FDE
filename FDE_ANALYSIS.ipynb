{
 "cells": [
  {
   "cell_type": "markdown",
   "metadata": {},
   "source": [
    "  <h1 style=\"color:BLUE\" markdown=\"1\"> Explications de la variable FDE </h1> \n"
   ]
  },
  {
   "cell_type": "markdown",
   "metadata": {},
   "source": [
    "### Approche\n",
    "1. Faire une régression classique et détection des variables pertinentes\n",
    "2. Regression régularisé et choix de variable pertinentes\n",
    "3.Approche RandomForest Regressor pour le choix des variables\n",
    "4.Approche sélection de features à l'aide de sckit-learn et les Arbres de Regression\n",
    "5.Comparaison des méthodes et choix des variables pertinentes qui explique au mieux la FDE\n",
    "6.Analyse des variables sélectionnés"
   ]
  },
  {
   "cell_type": "code",
   "execution_count": 13,
   "metadata": {},
   "outputs": [],
   "source": [
    "import seaborn as sns\n",
    "import matplotlib.pyplot as plt"
   ]
  },
  {
   "cell_type": "code",
   "execution_count": 1,
   "metadata": {},
   "outputs": [],
   "source": [
    "import pandas as pd\n",
    "import numpy as np\n",
    "import plotly.express as px\n",
    "import statsmodels.api as sm\n",
    "from sklearn.linear_model import RidgeCV\n",
    "from sklearn.model_selection import RepeatedKFold\n",
    "from sklearn.preprocessing import StandardScaler\n",
    "from sklearn.ensemble import RandomForestRegressor \n",
    "from sklearn.tree import DecisionTreeRegressor\n",
    "from regressors import stats    \n",
    "from sklearn.feature_selection import RFECV"
   ]
  },
  {
   "cell_type": "code",
   "execution_count": 2,
   "metadata": {},
   "outputs": [],
   "source": [
    "df=pd.read_csv('../DATA/DATA_ML_FINAL.csv')"
   ]
  },
  {
   "cell_type": "code",
   "execution_count": 3,
   "metadata": {},
   "outputs": [],
   "source": [
    "#suppression de la permière variable(la variable n'appartient pas à la base)\n",
    "col1=df.columns[0]\n",
    "df.drop(columns=[col1],axis=1,inplace=True)\n"
   ]
  },
  {
   "cell_type": "markdown",
   "metadata": {},
   "source": [
    "**Standardisation des variables pour supprimer l'effet d'echelle**"
   ]
  },
  {
   "cell_type": "code",
   "execution_count": 4,
   "metadata": {},
   "outputs": [],
   "source": [
    "sc=StandardScaler()\n",
    "y=df['MONT-FDE'].values\n",
    "x = df.drop(columns=['MONT-FDE'],axis=1).values\n",
    "# Standardisation des features\n",
    "x = StandardScaler().fit_transform(x)\n"
   ]
  },
  {
   "cell_type": "markdown",
   "metadata": {},
   "source": [
    "- <span style=\"color:BLUE\"> Mise en oeuvre de la Regression Classique </span>"
   ]
  },
  {
   "cell_type": "code",
   "execution_count": 9,
   "metadata": {},
   "outputs": [
    {
     "name": "stdout",
     "output_type": "stream",
     "text": [
      "                            OLS Regression Results                            \n",
      "==============================================================================\n",
      "Dep. Variable:                      y   R-squared:                       1.000\n",
      "Model:                            OLS   Adj. R-squared:                  1.000\n",
      "Method:                 Least Squares   F-statistic:                 7.076e+15\n",
      "Date:                Sun, 15 Nov 2020   Prob (F-statistic):               0.00\n",
      "Time:                        18:32:20   Log-Likelihood:            -3.0441e+05\n",
      "No. Observations:             3783529   AIC:                         6.089e+05\n",
      "Df Residuals:                 3783487   BIC:                         6.095e+05\n",
      "Df Model:                          41                                         \n",
      "Covariance Type:            nonrobust                                         \n",
      "==============================================================================\n",
      "                 coef    std err          t      P>|t|      [0.025      0.975]\n",
      "------------------------------------------------------------------------------\n",
      "const       4823.7401      0.000   3.58e+07      0.000    4823.740    4823.740\n",
      "x1            -0.0003      0.000     -2.152      0.031      -0.001   -2.64e-05\n",
      "x2             0.0007      0.000      5.199      0.000       0.000       0.001\n",
      "x3            -0.0017      0.001     -3.357      0.001      -0.003      -0.001\n",
      "x4             0.0035      0.000     23.469      0.000       0.003       0.004\n",
      "x5             0.0091      0.000     34.987      0.000       0.009       0.010\n",
      "x6         -9.489e+04      4.656  -2.04e+04      0.000   -9.49e+04   -9.49e+04\n",
      "x7            -0.0004      0.000     -1.476      0.140      -0.001       0.000\n",
      "x8             0.0044      0.001      3.097      0.002       0.002       0.007\n",
      "x9           904.2349      0.126   7194.248      0.000     903.989     904.481\n",
      "x10         4307.1333      0.090   4.79e+04      0.000    4306.957    4307.310\n",
      "x11         4.474e+04      0.466    9.6e+04      0.000    4.47e+04    4.47e+04\n",
      "x12           -1.5423      0.226     -6.829      0.000      -1.985      -1.100\n",
      "x13         9.685e+04      4.546   2.13e+04      0.000    9.68e+04    9.69e+04\n",
      "x14         1469.2080      1.805    814.166      0.000    1465.671    1472.745\n",
      "x15         3.087e+04      1.532   2.02e+04      0.000    3.09e+04    3.09e+04\n",
      "x16            0.0277      0.002     11.668      0.000       0.023       0.032\n",
      "x17            0.0001      0.000      1.034      0.301      -0.000       0.000\n",
      "x18           -0.0006      0.000     -3.980      0.000      -0.001      -0.000\n",
      "x19           -0.0001      0.000     -0.475      0.635      -0.001       0.000\n",
      "x20           -0.0002      0.000     -0.416      0.677      -0.001       0.001\n",
      "x21           -0.0072      0.001     -8.786      0.000      -0.009      -0.006\n",
      "x22           -0.0051      0.001     -6.553      0.000      -0.007      -0.004\n",
      "x23            0.0017      0.000      8.593      0.000       0.001       0.002\n",
      "x24           -0.0004      0.000     -1.906      0.057      -0.001       1e-05\n",
      "x25            0.0002      0.000      0.873      0.383      -0.000       0.001\n",
      "x26           -0.0003      0.000     -1.630      0.103      -0.001    6.28e-05\n",
      "x27        -3.009e-05      0.000     -0.161      0.872      -0.000       0.000\n",
      "x28            0.0003      0.000      1.747      0.081      -4e-05       0.001\n",
      "x29            0.0004      0.000      1.925      0.054   -6.33e-06       0.001\n",
      "x30         6.591e-05      0.000      0.352      0.725      -0.000       0.000\n",
      "x31        -3.397e-05      0.000     -0.180      0.857      -0.000       0.000\n",
      "x32          3.45e-05      0.000      0.188      0.851      -0.000       0.000\n",
      "x33        -4.846e-07      0.000     -0.003      0.998      -0.000       0.000\n",
      "x34           -0.0002      0.000     -0.880      0.379      -0.001       0.000\n",
      "x35           -0.0002      0.000     -0.997      0.319      -0.001       0.000\n",
      "x36           -0.0003      0.000     -1.766      0.077      -0.001     3.5e-05\n",
      "x37           -0.0003      0.000     -1.914      0.056      -0.001    8.28e-06\n",
      "x38           -0.0006      0.000     -3.366      0.001      -0.001      -0.000\n",
      "x39           -0.0349      0.003    -13.933      0.000      -0.040      -0.030\n",
      "x40           -0.0127      0.000    -58.967      0.000      -0.013      -0.012\n",
      "x41           -0.0347      0.003    -13.668      0.000      -0.040      -0.030\n",
      "==============================================================================\n",
      "Omnibus:                    44625.209   Durbin-Watson:                   1.962\n",
      "Prob(Omnibus):                  0.000   Jarque-Bera (JB):            78718.313\n",
      "Skew:                          -0.040   Prob(JB):                         0.00\n",
      "Kurtosis:                       3.702   Cond. No.                     1.32e+05\n",
      "==============================================================================\n",
      "\n",
      "Warnings:\n",
      "[1] Standard Errors assume that the covariance matrix of the errors is correctly specified.\n",
      "[2] The condition number is large, 1.32e+05. This might indicate that there are\n",
      "strong multicollinearity or other numerical problems.\n"
     ]
    }
   ],
   "source": [
    "X2 = sm.add_constant(x)\n",
    "est = sm.OLS(y, X2)\n",
    "est2 = est.fit()\n",
    "print(est2.summary())"
   ]
  },
  {
   "cell_type": "markdown",
   "metadata": {},
   "source": [
    "* Les resultats de la regression classique ci-dessusv  nous monjtre que les regresseurs sont volatiles. En d'autres termes la variance est grande. \n",
    "* Cela peut être à un problème de multicolinéarité qui a d'ailleur été observé dans la matrice de correlaltion dans le processing\n",
    "* De plus L'indicateur de qualité d'ajustement R² est égale à 1. Cela peut provenir d'un surapprentissage. \n",
    "\n"
   ]
  },
  {
   "cell_type": "markdown",
   "metadata": {},
   "source": [
    "**Approche Regression pénalisé : Ridge**\n"
   ]
  },
  {
   "cell_type": "code",
   "execution_count": 26,
   "metadata": {},
   "outputs": [
    {
     "name": "stdout",
     "output_type": "stream",
     "text": [
      "alpha: 0.000000\n",
      "Residuals:\n",
      "    Min      1Q  Median      3Q     Max\n",
      "-6.9308 -0.1583  0.0003  0.1581  9.6922\n",
      "\n",
      "\n",
      "Coefficients:\n",
      "                Estimate  Std. Error       t value   p value\n",
      "_intercept   4823.740141    0.000135  3.577894e+07  0.000000\n",
      "x1             -0.000293    0.000136 -2.150300e+00  0.031528\n",
      "x2              0.000707    0.000136  5.209100e+00  0.000000\n",
      "x3             -0.002733    0.000188 -1.456190e+01  0.000000\n",
      "x4              0.003527    0.000147  2.391470e+01  0.000000\n",
      "x5              0.009107    0.000245  3.716320e+01  0.000000\n",
      "x6         -94884.912515    3.155986 -3.006506e+04  0.000000\n",
      "x7             -0.000493    0.000169 -2.907600e+00  0.003642\n",
      "x8              0.001560    0.000164  9.495900e+00  0.000000\n",
      "x9            903.981331    0.003955  2.285471e+05  0.000000\n",
      "x10          4306.955444    0.002571  1.675285e+06  0.000000\n",
      "x11         44734.586099    0.147830  3.026080e+05  0.000000\n",
      "x12            -1.665633    0.118889 -1.401000e+01  0.000000\n",
      "x13         96835.725219    3.014161  3.212693e+04  0.000000\n",
      "x14          1472.871678    0.722180  2.039480e+03  0.000000\n",
      "x15         30867.894742    0.463913  6.653809e+04  0.000000\n",
      "x16             0.027706    0.001966  1.409280e+01  0.000000\n",
      "x17             0.000141    0.000135  1.043600e+00  0.296657\n",
      "x18            -0.000589    0.000144 -4.092600e+00  0.000043\n",
      "x19            -0.000106    0.000211 -5.017000e-01  0.615865\n",
      "x20            -0.000172    0.000433 -3.959000e-01  0.692143\n",
      "x21            -0.008121    0.000542 -1.497060e+01  0.000000\n",
      "x22            -0.005883    0.000528 -1.113690e+01  0.000000\n",
      "x23             0.001569    0.000150  1.046070e+01  0.000000\n",
      "x24            -0.000352    0.000159 -2.210200e+00  0.027090\n",
      "x25             0.000166    0.000161  1.029300e+00  0.303324\n",
      "x26            -0.000309    0.000162 -1.909800e+00  0.056165\n",
      "x27            -0.000029    0.000160 -1.795000e-01  0.857573\n",
      "x28             0.000330    0.000161  2.056900e+00  0.039698\n",
      "x29             0.000353    0.000159  2.225800e+00  0.026027\n",
      "x30             0.000066    0.000160  4.135000e-01  0.679213\n",
      "x31            -0.000033    0.000161 -2.070000e-01  0.836011\n",
      "x32             0.000033    0.000159  2.105000e-01  0.833298\n",
      "x33            -0.000001    0.000160 -5.500000e-03  0.995574\n",
      "x34            -0.000166    0.000161 -1.027800e+00  0.304037\n",
      "x35            -0.000173    0.000162 -1.064500e+00  0.287089\n",
      "x36            -0.000311    0.000163 -1.904900e+00  0.056797\n",
      "x37            -0.000343    0.000165 -2.080600e+00  0.037468\n",
      "x38            -0.000611    0.000166 -3.686300e+00  0.000228\n",
      "x39            -0.035013    0.001898 -1.844500e+01  0.000000\n",
      "x40            -0.012942    0.000162 -8.010860e+01  0.000000\n",
      "x41            -0.034766    0.001938 -1.794200e+01  0.000000\n",
      "---\n",
      "R-squared:  1.00000,    Adjusted R-squared:  1.00000\n",
      "F-statistic: 7076030179467637.00 on 41 features\n"
     ]
    }
   ],
   "source": [
    "# define model evaluation method\n",
    "cv = RepeatedKFold(n_splits=10, n_repeats=3, random_state=1)\n",
    "# define model\n",
    "model = RidgeCV(alphas=np.arange(0, 1, 0.1), cv=cv, scoring='neg_mean_absolute_error')\n",
    "# fit model\n",
    "model.fit(x, y)\n",
    "# summarize chosen configuration\n",
    "print('alpha: %f' % model.alpha_)\n",
    "stats.summary(model, x, y)\n"
   ]
  },
  {
   "cell_type": "markdown",
   "metadata": {},
   "source": [
    "*Nous pouvons constater ici qu'on a 27 variables pertinentes. Cependant le model surapprent.\n",
    "Le modèl est globalement mauvais.*"
   ]
  },
  {
   "cell_type": "markdown",
   "metadata": {},
   "source": [
    "**Approche : Random Forest Regressor**"
   ]
  },
  {
   "cell_type": "code",
   "execution_count": 10,
   "metadata": {
    "collapsed": true,
    "jupyter": {
     "outputs_hidden": true
    }
   },
   "outputs": [
    {
     "name": "stdout",
     "output_type": "stream",
     "text": [
      "Importance des variables pour notre modèle de Regression:\n"
     ]
    },
    {
     "ename": "NameError",
     "evalue": "name 'names' is not defined",
     "output_type": "error",
     "traceback": [
      "\u001b[1;31m---------------------------------------------------------------------------\u001b[0m",
      "\u001b[1;31mNameError\u001b[0m                                 Traceback (most recent call last)",
      "\u001b[1;32m<ipython-input-10-332f55a80d70>\u001b[0m in \u001b[0;36m<module>\u001b[1;34m\u001b[0m\n\u001b[0;32m      4\u001b[0m \u001b[0mrf\u001b[0m\u001b[1;33m.\u001b[0m\u001b[0mfit\u001b[0m\u001b[1;33m(\u001b[0m\u001b[0mx\u001b[0m\u001b[1;33m,\u001b[0m \u001b[0my\u001b[0m\u001b[1;33m)\u001b[0m\u001b[1;33m\u001b[0m\u001b[1;33m\u001b[0m\u001b[0m\n\u001b[0;32m      5\u001b[0m \u001b[0mprint\u001b[0m \u001b[1;33m(\u001b[0m\u001b[1;34m\"Importance des variables pour notre modèle de Regression:\"\u001b[0m\u001b[1;33m)\u001b[0m\u001b[1;33m\u001b[0m\u001b[1;33m\u001b[0m\u001b[0m\n\u001b[1;32m----> 6\u001b[1;33m var_importance=sorted(zip(map(lambda x: round(x, 4), rf.feature_importances_), names), \n\u001b[0m\u001b[0;32m      7\u001b[0m              reverse=True)\n\u001b[0;32m      8\u001b[0m \u001b[0mprint\u001b[0m\u001b[1;33m(\u001b[0m\u001b[0mvar_importance\u001b[0m\u001b[1;33m)\u001b[0m\u001b[1;33m\u001b[0m\u001b[1;33m\u001b[0m\u001b[0m\n",
      "\u001b[1;31mNameError\u001b[0m: name 'names' is not defined"
     ]
    }
   ],
   "source": [
    "# create regressor object \n",
    "rf = RandomForestRegressor(n_estimators = 30, random_state = 0) \n",
    "  \n",
    "rf.fit(x, y)\n"
   ]
  },
  {
   "cell_type": "code",
   "execution_count": 11,
   "metadata": {},
   "outputs": [
    {
     "name": "stdout",
     "output_type": "stream",
     "text": [
      "Importance des variables pour notre modèle de Regression:\n",
      "[(0.3626, 'MONT-FNE'), (0.1686, 'CUBFAC'), (0.1409, 'CATEGORIE_PRIVE'), (0.1148, 'MONT-SOD'), (0.0801, 'MONT-TVA'), (0.0711, 'INDUST'), (0.0527, 'MONT-FDE'), (0.0025, 'CUBCONS'), (0.002, 'MONT-FRAIS-CPT'), (0.0015, 'ADMINI'), (0.0013, 'NORMAL'), (0.0005, 'MM_3'), (0.0004, 'AAAA_2018'), (0.0003, 'TOURNEE'), (0.0002, 'SOCIAL'), (0.0002, 'AAAA_2019'), (0.0001, 'O'), (0.0001, 'NOUVEAU'), (0.0001, 'MM_9'), (0.0001, 'ENR_FC'), (0.0001, 'DOMEST'), (0.0, 'RESILIE'), (0.0, 'P'), (0.0, 'MONT-ASS-TTC'), (0.0, 'MM_8'), (0.0, 'MM_7'), (0.0, 'MM_6'), (0.0, 'MM_5'), (0.0, 'MM_4'), (0.0, 'MM_2'), (0.0, 'MM_12'), (0.0, 'MM_11'), (0.0, 'MM_10'), (0.0, 'FORFAIT'), (0.0, 'ENR_FM'), (0.0, 'ENR_EN'), (0.0, 'DIAM'), (0.0, 'CEN'), (0.0, 'AAAA_2017'), (0.0, 'AAAA_2016'), (0.0, 'AAAA_2015')]\n"
     ]
    }
   ],
   "source": [
    "print (\"Importance des variables pour notre modèle de Regression par ordre d'importance :\")\n",
    "names = df.columns\n",
    "var_importance=sorted(zip(map(lambda x: round(x, 4), rf.feature_importances_), names), \n",
    "             reverse=True)\n",
    "print(var_importance)"
   ]
  },
  {
   "cell_type": "markdown",
   "metadata": {},
   "source": [
    "Après le Ramdom Forest nous obtenons les variables qui contribuent à un seuil de 10% à l'explication de la variable \n",
    "cible(MONT-FDE).Ces variables sont : \n",
    "- <span> MONT-FNE </span>\n",
    "- <span> CUBFAC </span>\n",
    "- <span> CATEGORIE_PRIVE </span>\n",
    "- <span> MONT-SOD </span>\n",
    "- <span> MONT-TVA </span>\n",
    "- <span> INDUST </span>\n",
    "- <span> CUBCONS </span>\n",
    "- <span> MONT-FRAIS-CPT </span>\n",
    "- <span> ADMINI </span>\n",
    "- <span> NORMAL </span>"
   ]
  },
  {
   "cell_type": "markdown",
   "metadata": {},
   "source": [
    "**Autre approche**"
   ]
  },
  {
   "cell_type": "code",
   "execution_count": 5,
   "metadata": {},
   "outputs": [
    {
     "name": "stdout",
     "output_type": "stream",
     "text": [
      "Le nombre optimal de features sélectioné est : 9\n"
     ]
    }
   ],
   "source": [
    "selecteur=RFECV(estimator=DecisionTreeRegressor(),cv=3,scoring='neg_mean_absolute_error')\n",
    "selecteur.fit(x,y)\n",
    "print(\"Le nombre optimal de features sélectioné est : %d\" % selecteur.n_features_)"
   ]
  },
  {
   "cell_type": "code",
   "execution_count": 12,
   "metadata": {},
   "outputs": [
    {
     "name": "stdout",
     "output_type": "stream",
     "text": [
      "Column: 4, Selected True, Rank: 1.000 ,variable CUBCONS\n",
      "Column: 5, Selected True, Rank: 1.000 ,variable CUBFAC\n",
      "Column: 9, Selected True, Rank: 1.000 ,variable NORMAL\n",
      "Column: 10, Selected True, Rank: 1.000 ,variable INDUST\n",
      "Column: 12, Selected True, Rank: 1.000 ,variable MONT-SOD\n",
      "Column: 13, Selected True, Rank: 1.000 ,variable MONT-TVA\n",
      "Column: 14, Selected True, Rank: 1.000 ,variable MONT-FDE\n",
      "Column: 15, Selected True, Rank: 1.000 ,variable MONT-FNE\n",
      "Column: 17, Selected True, Rank: 1.000 ,variable MONT-FRAIS-CPT\n"
     ]
    }
   ],
   "source": [
    "for i in range(x.shape[1]):\n",
    "    if selecteur.support_[i]==True:\n",
    "        print('Column: %d, Selected %s, Rank: %.3f ,variable %s' % (i, selecteur.support_[i], selecteur.ranking_[i],df.columns[i]))"
   ]
  },
  {
   "cell_type": "markdown",
   "metadata": {},
   "source": [
    "*Cette méthode nous a permis de confirmer la sélection des 9 variables explicatives.*"
   ]
  },
  {
   "cell_type": "markdown",
   "metadata": {},
   "source": [
    "*Les Variables sélectionnées hormis les variables de Montant  :*\n",
    "- <span> CUBFAC </span>\n",
    "- <span> CATEGORIE_PRIVE </span>\n",
    "- <span> INDUST </span>\n",
    "- <span> CUBCONS </span>\n",
    "- <span> ADMINI </span>\n",
    "- <span> NORMAL </span>"
   ]
  },
  {
   "cell_type": "markdown",
   "metadata": {},
   "source": [
    "**Analyse bivariée des variables sélectionnés et la  FDE**"
   ]
  },
  {
   "cell_type": "code",
   "execution_count": 14,
   "metadata": {},
   "outputs": [
    {
     "data": {
      "image/png": "[encoded data removed]",
      "text/plain": [
       "<Figure size 432x288 with 1 Axes>"
      ]
     },
     "metadata": {
      "needs_background": "light"
     },
     "output_type": "display_data"
    }
   ],
   "source": [
    "sns.lineplot(x = \"MONT-FDE\", y = \"CUBFAC\",data=df)\n",
    "sns.set(style='dark',)\n",
    "plt.show()"
   ]
  },
  {
   "cell_type": "markdown",
   "metadata": {},
   "source": [
    "On remarque que les individus ayant une FDE négative ont égalément une consommation Facturé négative.\n"
   ]
  },
  {
   "cell_type": "code",
   "execution_count": 21,
   "metadata": {},
   "outputs": [
    {
     "data": {
      "image/png": "[encoded data removed]",
      "text/plain": [
       "<Figure size 432x288 with 1 Axes>"
      ]
     },
     "metadata": {},
     "output_type": "display_data"
    }
   ],
   "source": [
    "sns.lineplot(x = \"MONT-FDE\", y = \"CUBCONS\",data=df)\n",
    "sns.set(style='dark',)\n",
    "plt.show()"
   ]
  },
  {
   "cell_type": "code",
   "execution_count": 22,
   "metadata": {},
   "outputs": [
    {
     "data": {
      "image/png": "[encoded data removed]",
      "text/plain": [
       "<Figure size 432x288 with 1 Axes>"
      ]
     },
     "metadata": {},
     "output_type": "display_data"
    }
   ],
   "source": [
    "sns.lineplot(x = \"MONT-FDE\", y = \"INDUST\",data=df)\n",
    "sns.set(style='dark',)\n",
    "plt.show()"
   ]
  },
  {
   "cell_type": "code",
   "execution_count": 23,
   "metadata": {},
   "outputs": [
    {
     "data": {
      "image/png": "[encoded data removed]",
      "text/plain": [
       "<Figure size 432x288 with 1 Axes>"
      ]
     },
     "metadata": {},
     "output_type": "display_data"
    }
   ],
   "source": [
    "sns.lineplot(x = \"MONT-FDE\", y = \"ADMINI\",data=df)\n",
    "sns.set(style='dark',)\n",
    "plt.show()"
   ]
  },
  {
   "cell_type": "code",
   "execution_count": 24,
   "metadata": {},
   "outputs": [
    {
     "data": {
      "image/png": "[encoded data removed]",
      "text/plain": [
       "<Figure size 432x288 with 1 Axes>"
      ]
     },
     "metadata": {},
     "output_type": "display_data"
    }
   ],
   "source": [
    "sns.lineplot(x = \"MONT-FDE\", y = \"NORMAL\",data=df)\n",
    "sns.set(style='dark',)\n",
    "plt.show()"
   ]
  },
  {
   "cell_type": "code",
   "execution_count": 20,
   "metadata": {},
   "outputs": [
    {
     "data": {
      "text/plain": [
       "<matplotlib.axes._subplots.AxesSubplot at 0x163a9ae2d90>"
      ]
     },
     "execution_count": 20,
     "metadata": {},
     "output_type": "execute_result"
    },
    {
     "data": {
      "image/png": "[encoded data removed]",
      "text/plain": [
       "<Figure size 432x288 with 1 Axes>"
      ]
     },
     "metadata": {},
     "output_type": "display_data"
    }
   ],
   "source": [
    "df.groupby(['CATEGORIE_PRIVE']).sum()[['MONT-FDE']].plot.bar()"
   ]
  },
  {
   "cell_type": "markdown",
   "metadata": {},
   "source": [
    "*Nous constatons que les abonnés de la catégories privée consomment beaucoup plus que les abonnés qui ne le sont pas.*"
   ]
  }
 ],
 "metadata": {
  "kernelspec": {
   "display_name": "Python 3",
   "language": "python",
   "name": "python3"
  },
  "language_info": {
   "codemirror_mode": {
    "name": "ipython",
    "version": 3
   },
   "file_extension": ".py",
   "mimetype": "text/x-python",
   "name": "python",
   "nbconvert_exporter": "python",
   "pygments_lexer": "ipython3",
   "version": "3.7.6"
  }
 },
 "nbformat": 4,
 "nbformat_minor": 4
}
